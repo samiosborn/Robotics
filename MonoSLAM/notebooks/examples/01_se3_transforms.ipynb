{
 "cells": [
  {
   "cell_type": "code",
   "execution_count": null,
   "id": "f13e148c",
   "metadata": {},
   "outputs": [],
   "source": [
    "import numpy as np"
   ]
  },
  {
   "cell_type": "markdown",
   "id": "576a1b25",
   "metadata": {},
   "source": [
    "notebooks/examples/01_lie_se3.ipynb\n",
    "\n",
    "# Q1 - Coordinate Transforms"
   ]
  },
  {
   "cell_type": "code",
   "execution_count": null,
   "id": "00f8a42b",
   "metadata": {},
   "outputs": [
    {
     "name": "stdout",
     "output_type": "stream",
     "text": [
      "Translate from world to camera:  [0.5 0.  1. ]\n",
      "Point in world frame:  [1.  0.5 2. ]\n",
      "Point in camera frame:  [0.9330127 0.5       0.6160254]\n",
      "Estimate of point back in world frame:  [1.  0.5 2. ]\n"
     ]
    }
   ],
   "source": [
    "# Set as a 3x3 rotation matrix R_{CW} that rotates 30 degrees around the y-axis\n",
    "rotation_CW = np.array([\n",
    "    [np.cos(np.pi/6), 0, np.sin(np.pi/6)],\n",
    "    [0, 1, 0],\n",
    "    [-np.sin(np.pi/6), 0, np.cos(np.pi/6)]]\n",
    "    )\n",
    "# Define the translation vector between coordinate frames t_{CW} = [0.5, 0.0, 1.0]^T\n",
    "translate_CW = np.array([0.5, 0.0, 1.0])\n",
    "print(\"Translate from world to camera: \", translate_CW)\n",
    "# Pick a world point p_W = [1.0, 0.5, 2.0]^T\n",
    "point_W = np.array([1.0, 0.5, 2.0])\n",
    "print(\"Point in world frame: \", point_W)\n",
    "# What is the coordinates of p_W in the camera frame?\n",
    "point_C = rotation_CW @ (point_W - translate_CW)\n",
    "print(\"Point in camera frame: \", point_C)\n",
    "# Verify this through an inverse operation\n",
    "# Invert the rotation matrix\n",
    "rotation_WC = rotation_CW.T\n",
    "# Project onto world frame\n",
    "point_W_est = (rotation_WC @ point_C) + translate_CW\n",
    "print(\"Estimate of point back in world frame: \", point_W_est)"
   ]
  },
  {
   "cell_type": "markdown",
   "id": "3866f500",
   "metadata": {},
   "source": [
    "# Q2 - Homogeneous transform"
   ]
  },
  {
   "cell_type": "code",
   "execution_count": 10,
   "id": "8fa41831",
   "metadata": {},
   "outputs": [
    {
     "name": "stdout",
     "output_type": "stream",
     "text": [
      "Homogeneous transformation matrix:  [[ 0.8660254  0.         0.5       -0.9330127]\n",
      " [ 0.         1.         0.        -0.       ]\n",
      " [-0.5        0.         0.8660254 -0.6160254]\n",
      " [ 0.         0.         0.         1.       ]]\n",
      "Point in camera frame:  [0.9330127 0.5       0.6160254]\n",
      "Point in camera frame (homogeneous coordinates):  [0.9330127 0.5       0.6160254 1.       ]\n",
      "Point in world frame:  [1.  0.5 2. ]\n",
      "Point in world frame (homogeneous coordinates):  [1.  0.5 2.  1. ]\n"
     ]
    }
   ],
   "source": [
    "# Construct the homogeneous transform T_{CW} in SE(E) as a 4x4 matrix\n",
    "translate_WC = -(rotation_CW @ translate_CW)\n",
    "transform_CW = np.block([\n",
    "  [rotation_CW, translate_WC.reshape(3, 1)],\n",
    "  [np.zeros((1, 3)), np.ones((1,1))]]\n",
    ")\n",
    "print(\"Homogeneous transformation matrix: \", transform_CW)\n",
    "# Apply it to the same point using homogeneous coordinates\n",
    "point_W_h = np.hstack((point_W, 1))\n",
    "point_C_h = transform_CW @ point_W_h\n",
    "# Compare this with the earlier direct computation\n",
    "print(\"Point in camera frame: \", point_C)\n",
    "print(\"Point in camera frame (homogeneous coordinates): \", point_C_h)\n",
    "# Compute T_{WC} as the inverse of T_{CW}\n",
    "transform_WC = np.block([\n",
    "  [rotation_WC, translate_CW.reshape(3, 1)],\n",
    "  [np.zeros((1, 3)), np.ones((1,1))]\n",
    "])\n",
    "# Test it recovers p_W\n",
    "point_W_h = transform_WC @ point_C_h\n",
    "print(\"Point in world frame: \", point_W)\n",
    "print(\"Point in world frame (homogeneous coordinates): \", point_W_h)"
   ]
  },
  {
   "cell_type": "markdown",
   "id": "dc0e6412",
   "metadata": {},
   "source": [
    "# Q3 - Axis-angle and Quaternion"
   ]
  },
  {
   "cell_type": "code",
   "execution_count": 14,
   "id": "4d189da3",
   "metadata": {},
   "outputs": [
    {
     "name": "stdout",
     "output_type": "stream",
     "text": [
      "Value of t (must be positive):  2.732\n",
      "Quaternion rotation:  [0.966 0.    0.259 0.   ]\n"
     ]
    }
   ],
   "source": [
    "# Convert the rotation matrix into a quaternion\n",
    "t = np.trace(rotation_CW)\n",
    "print(\"Value of t (must be positive): \", np.round(t, 3))\n",
    "q_w = 0.5*np.sqrt(1 + t)\n",
    "q_x = (1/(4*q_w))*(rotation_CW[2][1] - rotation_CW[1][2])\n",
    "q_y = (1/(4*q_w))*(rotation_CW[0][2] - rotation_CW[2][0])\n",
    "q_z = (1/(4*q_w))*(rotation_CW[1][0] - rotation_CW[2][1])\n",
    "q = np.hstack([q_w, q_x, q_y, q_z])\n",
    "q_norm = np.linalg.norm(q)\n",
    "q = q / q_norm\n",
    "print(\"Quaternion rotation: \", np.round(q, 3))"
   ]
  }
 ],
 "metadata": {
  "kernelspec": {
   "display_name": "lerobot",
   "language": "python",
   "name": "python3"
  },
  "language_info": {
   "codemirror_mode": {
    "name": "ipython",
    "version": 3
   },
   "file_extension": ".py",
   "mimetype": "text/x-python",
   "name": "python",
   "nbconvert_exporter": "python",
   "pygments_lexer": "ipython3",
   "version": "3.11.9"
  }
 },
 "nbformat": 4,
 "nbformat_minor": 5
}
